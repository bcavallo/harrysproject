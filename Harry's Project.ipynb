{
 "metadata": {
  "name": "",
  "signature": "sha256:06d2f9a95b52bc19135f7e5cd773f9f3131953e7c44e2c2077904d77cc252fc3"
 },
 "nbformat": 3,
 "nbformat_minor": 0,
 "worksheets": [
  {
   "cells": [
    {
     "cell_type": "markdown",
     "metadata": {},
     "source": [
      "**Question 1**\n",
      "\n",
      "We begin by first finding how active the twitter users that the @harrys twitter account replies to. To do this we find the distribution of their follower count, tweet count, and following count.\n",
      "\n",
      "I collected the data using the Python wrapper tweepy for the Twitter API.  The API only gives you the most recent 3200 tweets from a user's timeline.  As such, the first tweet we consider is from January 10th, 2015 and we consider all tweets from that to the present day."
     ]
    },
    {
     "cell_type": "code",
     "collapsed": false,
     "input": [
      "import tweepy\n",
      "import pandas as pd\n",
      "import numpy as np\n",
      "from tweepy import OAuthHandler\n",
      "import seaborn as sns\n",
      "import lda\n",
      "from sklearn.feature_extraction.text import CountVectorizer\n",
      "from sklearn.linear_model import LinearRegression\n",
      "import re\n",
      "import datetime\n",
      "from matplotlib import pyplot as plt\n",
      "from api_keys import *\n",
      "from scipy.stats import spearmanr\n",
      "%matplotlib inline"
     ],
     "language": "python",
     "metadata": {},
     "outputs": [],
     "prompt_number": 1
    },
    {
     "cell_type": "code",
     "collapsed": false,
     "input": [
      "auth = OAuthHandler(api_key, api_secret)\n",
      "auth.set_access_token(access_token, access_token_secret)"
     ],
     "language": "python",
     "metadata": {},
     "outputs": [],
     "prompt_number": 2
    },
    {
     "cell_type": "code",
     "collapsed": false,
     "input": [
      "api = tweepy.API(auth)"
     ],
     "language": "python",
     "metadata": {},
     "outputs": [],
     "prompt_number": 3
    },
    {
     "cell_type": "markdown",
     "metadata": {},
     "source": [
      "All replies are loaded into the pandas dataframe replies_df.  To start with we record when the reply was created, the id of the user @harrys is replying to, their username, the response text, and the id of the status Harry's is replying to."
     ]
    },
    {
     "cell_type": "code",
     "collapsed": false,
     "input": [
      "replies_df = pd.DataFrame(columns = [['created_at','user_id','user_name', 'rep_text', 'in_reply_id']])"
     ],
     "language": "python",
     "metadata": {},
     "outputs": [],
     "prompt_number": 4
    },
    {
     "cell_type": "code",
     "collapsed": false,
     "input": [
      "i = 0\n",
      "for status in tweepy.Cursor(api.user_timeline, id='harrys').items():\n",
      "    if status.in_reply_to_screen_name != None:\n",
      "        replies_df.loc[i] = [status.created_at, status.in_reply_to_user_id,status.in_reply_to_screen_name, status.text, \n",
      "                          status.in_reply_to_status_id]\n",
      "        i += 1        "
     ],
     "language": "python",
     "metadata": {},
     "outputs": [],
     "prompt_number": 5
    },
    {
     "cell_type": "code",
     "collapsed": false,
     "input": [
      "print \"Total number of tweets in this period: %d\" % len(replies_df)"
     ],
     "language": "python",
     "metadata": {},
     "outputs": [
      {
       "output_type": "stream",
       "stream": "stdout",
       "text": [
        "Total number of tweets in this period: 2921\n"
       ]
      }
     ],
     "prompt_number": 6
    },
    {
     "cell_type": "markdown",
     "metadata": {},
     "source": [
      "Using the 'user_id' column from replies_df, we can then use the Twitter api to find the follower count, tweet count, and following count of the users @harrys replies to.  We save this data in the followers_df dataframe."
     ]
    },
    {
     "cell_type": "code",
     "collapsed": false,
     "input": [
      "followers_df = pd.DataFrame(columns=[['follower_count','tweet_count','following_count']])"
     ],
     "language": "python",
     "metadata": {},
     "outputs": [],
     "prompt_number": 7
    },
    {
     "cell_type": "code",
     "collapsed": false,
     "input": [
      "split = np.array_split(map(int, replies_df.user_id.unique()), 100)\n",
      "for i in split:\n",
      "    users = api.lookup_users(list(i))\n",
      "    for j in users:\n",
      "        followers_df.loc[j.id] = [j.followers_count, j.statuses_count, j.friends_count]"
     ],
     "language": "python",
     "metadata": {},
     "outputs": [],
     "prompt_number": 8
    },
    {
     "cell_type": "code",
     "collapsed": false,
     "input": [
      "plt.figure(figsize=(12,6))\n",
      "followers_df.follower_count.hist(bins=100)\n",
      "plt.ylim(.75,10**4)\n",
      "plt.yscale('log')\n",
      "plt.xlabel(\"Follower Count\")\n",
      "plt.title(\"Distribution of Follower Count\")\n",
      "plt.show()"
     ],
     "language": "python",
     "metadata": {},
     "outputs": [
      {
       "metadata": {},
       "output_type": "display_data",
       "png": "[encoded data removed]",
       "text": [
        "<matplotlib.figure.Figure at 0x10e61b790>"
       ]
      }
     ],
     "prompt_number": 58
    },
    {
     "cell_type": "code",
     "collapsed": false,
     "input": [
      "plt.figure(figsize=(12,6))\n",
      "followers_df.tweet_count.hist(bins=100)\n",
      "plt.ylim(.75,10**4)\n",
      "plt.yscale('log')\n",
      "plt.xlabel(\"Tweet Count\")\n",
      "plt.title(\"Distribution of Tweet Count\")\n",
      "plt.show()"
     ],
     "language": "python",
     "metadata": {},
     "outputs": [
      {
       "metadata": {},
       "output_type": "display_data",
       "png": "[encoded data removed]",
       "text": [
        "<matplotlib.figure.Figure at 0x10b2ae450>"
       ]
      }
     ],
     "prompt_number": 10
    },
    {
     "cell_type": "code",
     "collapsed": false,
     "input": [
      "plt.figure(figsize=(12,6))\n",
      "followers_df.following_count.hist(bins=100)\n",
      "plt.xlim(0,50000)\n",
      "plt.ylim(.75,10**4)\n",
      "plt.yscale('log')\n",
      "plt.xlabel(\"Following Count\")\n",
      "plt.title(\"Distribution of Following Count\")\n",
      "plt.show()"
     ],
     "language": "python",
     "metadata": {},
     "outputs": [
      {
       "metadata": {},
       "output_type": "display_data",
       "png": "[encoded data removed]",
       "text": [
        "<matplotlib.figure.Figure at 0x10a4a3850>"
       ]
      }
     ],
     "prompt_number": 11
    },
    {
     "cell_type": "code",
     "collapsed": false,
     "input": [
      "plt.figure(figsize=(12,6))\n",
      "followers_df.boxplot()\n",
      "plt.yscale('log')\n",
      "plt.ylim(-10,10**5)\n",
      "plt.title(\"Distributions of Follower Count, Tweet Count, and Following Count\")\n",
      "plt.show()"
     ],
     "language": "python",
     "metadata": {},
     "outputs": [
      {
       "metadata": {},
       "output_type": "display_data",
       "png": "[encoded data removed]",
       "text": [
        "<matplotlib.figure.Figure at 0x10ea1a850>"
       ]
      }
     ],
     "prompt_number": 27
    },
    {
     "cell_type": "markdown",
     "metadata": {},
     "source": [
      "For greater perspective, here is exact numerical values for some common descriptive statistics for each category."
     ]
    },
    {
     "cell_type": "code",
     "collapsed": false,
     "input": [
      "followers_df.describe()"
     ],
     "language": "python",
     "metadata": {},
     "outputs": [
      {
       "html": [
        "<div style=\"max-height:1000px;max-width:1500px;overflow:auto;\">\n",
        "<table border=\"1\" class=\"dataframe\">\n",
        "  <thead>\n",
        "    <tr style=\"text-align: right;\">\n",
        "      <th></th>\n",
        "      <th>follower_count</th>\n",
        "      <th>tweet_count</th>\n",
        "      <th>following_count</th>\n",
        "    </tr>\n",
        "  </thead>\n",
        "  <tbody>\n",
        "    <tr>\n",
        "      <th>count</th>\n",
        "      <td>   2141.000000</td>\n",
        "      <td>    2141.000000</td>\n",
        "      <td>  2141.000000</td>\n",
        "    </tr>\n",
        "    <tr>\n",
        "      <th>mean</th>\n",
        "      <td>   2228.085941</td>\n",
        "      <td>    9455.892106</td>\n",
        "      <td>   674.630079</td>\n",
        "    </tr>\n",
        "    <tr>\n",
        "      <th>std</th>\n",
        "      <td>  13975.491599</td>\n",
        "      <td>   40629.786880</td>\n",
        "      <td>  1867.680702</td>\n",
        "    </tr>\n",
        "    <tr>\n",
        "      <th>min</th>\n",
        "      <td>      0.000000</td>\n",
        "      <td>       1.000000</td>\n",
        "      <td>  -114.000000</td>\n",
        "    </tr>\n",
        "    <tr>\n",
        "      <th>25%</th>\n",
        "      <td>     80.000000</td>\n",
        "      <td>     618.000000</td>\n",
        "      <td>   153.000000</td>\n",
        "    </tr>\n",
        "    <tr>\n",
        "      <th>50%</th>\n",
        "      <td>    237.000000</td>\n",
        "      <td>    2538.000000</td>\n",
        "      <td>   329.000000</td>\n",
        "    </tr>\n",
        "    <tr>\n",
        "      <th>75%</th>\n",
        "      <td>    707.000000</td>\n",
        "      <td>    7654.000000</td>\n",
        "      <td>   666.000000</td>\n",
        "    </tr>\n",
        "    <tr>\n",
        "      <th>max</th>\n",
        "      <td> 347563.000000</td>\n",
        "      <td> 1630223.000000</td>\n",
        "      <td> 43488.000000</td>\n",
        "    </tr>\n",
        "  </tbody>\n",
        "</table>\n",
        "</div>"
       ],
       "metadata": {},
       "output_type": "pyout",
       "prompt_number": 13,
       "text": [
        "       follower_count     tweet_count  following_count\n",
        "count     2141.000000     2141.000000      2141.000000\n",
        "mean      2228.085941     9455.892106       674.630079\n",
        "std      13975.491599    40629.786880      1867.680702\n",
        "min          0.000000        1.000000      -114.000000\n",
        "25%         80.000000      618.000000       153.000000\n",
        "50%        237.000000     2538.000000       329.000000\n",
        "75%        707.000000     7654.000000       666.000000\n",
        "max     347563.000000  1630223.000000     43488.000000"
       ]
      }
     ],
     "prompt_number": 13
    },
    {
     "cell_type": "markdown",
     "metadata": {},
     "source": [
      "**Average Response Time To Posts Over Time**\n",
      "\n",
      "We now investigate the average response time to tweets and how that changed over the period we investigate.  We divide the period of interest into weeks and then bin the tweets by week.\n",
      "\n",
      "We finally plot the average response time per week in hours for each week.  We also only consider tweets that were originally posted on weekdays.  Notice that the average response time increases over time though not dramatically."
     ]
    },
    {
     "cell_type": "code",
     "collapsed": false,
     "input": [
      "replies_df.in_reply_id = replies_df.in_reply_id.fillna(-1)"
     ],
     "language": "python",
     "metadata": {},
     "outputs": [],
     "prompt_number": 14
    },
    {
     "cell_type": "code",
     "collapsed": false,
     "input": [
      "post_ids = np.array_split(map(int, replies_df.in_reply_id), 50)\n",
      "orig_posts = pd.DataFrame(columns=[['orig_created_at','text']])\n",
      "for i in post_ids:\n",
      "    posts = api.statuses_lookup(list(i))\n",
      "    for j in posts:\n",
      "        orig_posts.loc[j.id] = [j.created_at, j.text]\n"
     ],
     "language": "python",
     "metadata": {},
     "outputs": [],
     "prompt_number": 15
    },
    {
     "cell_type": "code",
     "collapsed": false,
     "input": [
      "replies_df = replies_df.merge(orig_posts, how='left', left_on='in_reply_id', right_index=True)"
     ],
     "language": "python",
     "metadata": {},
     "outputs": [],
     "prompt_number": 16
    },
    {
     "cell_type": "code",
     "collapsed": false,
     "input": [
      "bins = [replies_df.orig_created_at.min()]"
     ],
     "language": "python",
     "metadata": {},
     "outputs": [],
     "prompt_number": 17
    },
    {
     "cell_type": "code",
     "collapsed": false,
     "input": [
      "curr = bins[0]\n",
      "max_time = replies_df.created_at.max()\n",
      "while curr < max_time:\n",
      "    curr += datetime.timedelta(days=7)\n",
      "    bins.append(curr)\n"
     ],
     "language": "python",
     "metadata": {},
     "outputs": [],
     "prompt_number": 18
    },
    {
     "cell_type": "code",
     "collapsed": false,
     "input": [
      "def put_to_bins(dt):\n",
      "    i = 0\n",
      "    while i < len(bins) - 1:\n",
      "        if bins[i] <= dt < bins[i+1]:\n",
      "            return i\n",
      "        i += 1"
     ],
     "language": "python",
     "metadata": {},
     "outputs": [],
     "prompt_number": 19
    },
    {
     "cell_type": "code",
     "collapsed": false,
     "input": [
      "i = 0\n",
      "while i < len(bins) - 1:\n",
      "    print \"Start of week %d: %s\" % (i, str(bins[i].month) + '/' + str(bins[i].day))\n",
      "    i += 1"
     ],
     "language": "python",
     "metadata": {},
     "outputs": [
      {
       "output_type": "stream",
       "stream": "stdout",
       "text": [
        "Start of week 0: 1/10\n",
        "Start of week 1: 1/17\n",
        "Start of week 2: 1/24\n",
        "Start of week 3: 1/31\n",
        "Start of week 4: 2/7\n",
        "Start of week 5: 2/14\n",
        "Start of week 6: 2/21\n",
        "Start of week 7: 2/28\n",
        "Start of week 8: 3/7\n",
        "Start of week 9: 3/14\n",
        "Start of week 10: 3/21\n",
        "Start of week 11: 3/28\n",
        "Start of week 12: 4/4\n",
        "Start of week 13: 4/11\n",
        "Start of week 14: 4/18\n",
        "Start of week 15: 4/25\n",
        "Start of week 16: 5/2\n",
        "Start of week 17: 5/9\n",
        "Start of week 18: 5/16\n",
        "Start of week 19: 5/23\n",
        "Start of week 20: 5/30\n",
        "Start of week 21: 6/6\n"
       ]
      }
     ],
     "prompt_number": 20
    },
    {
     "cell_type": "code",
     "collapsed": false,
     "input": [
      "all_posts = replies_df.dropna()\n",
      "all_posts['created_bin'] = all_posts.orig_created_at.apply(put_to_bins)\n",
      "all_posts['time_diff'] = all_posts.created_at - all_posts.orig_created_at\n",
      "all_posts['day_of_week'] = all_posts.orig_created_at.apply(lambda x: x.weekday())\n",
      "\n",
      "weekday_comments = all_posts[all_posts.day_of_week.isin(range(4))]"
     ],
     "language": "python",
     "metadata": {},
     "outputs": [],
     "prompt_number": 26
    },
    {
     "cell_type": "code",
     "collapsed": false,
     "input": [
      "avg_times = weekday_comments.groupby('created_bin').time_diff.sum() / weekday_comments.groupby('created_bin').time_diff.count()"
     ],
     "language": "python",
     "metadata": {},
     "outputs": [],
     "prompt_number": 22
    },
    {
     "cell_type": "code",
     "collapsed": false,
     "input": [
      "y = [(x.hours *3600 + x.minutes*60 + x.seconds) / 3600. for x in avg_times]\n",
      "plt.figure(figsize=(12,6))\n",
      "plt.bar(range(len(y)),y)\n",
      "plt.xlim(0,22)\n",
      "plt.title(\"Average Response Time Per Week\")\n",
      "plt.show()"
     ],
     "language": "python",
     "metadata": {},
     "outputs": [
      {
       "metadata": {},
       "output_type": "display_data",
       "png": "[encoded data removed]",
       "text": [
        "<matplotlib.figure.Figure at 0x10e642410>"
       ]
      }
     ],
     "prompt_number": 23
    },
    {
     "cell_type": "markdown",
     "metadata": {},
     "source": [
      "**Response to Harry's Original Content**\n",
      "\n",
      "We now look at the response to Harry's original content over time to get an idea of which campaigns are successful. We store @harrys' tweets into a dataframe called tweets_df."
     ]
    },
    {
     "cell_type": "code",
     "collapsed": false,
     "input": [
      "tweets_df = pd.DataFrame(columns = [['created_at', 'id', 'text', 'retweets', 'favorites','tags']])"
     ],
     "language": "python",
     "metadata": {},
     "outputs": [],
     "prompt_number": 24
    },
    {
     "cell_type": "code",
     "collapsed": false,
     "input": [
      "i = 0\n",
      "for status in tweepy.Cursor(api.user_timeline, id='harrys').items():\n",
      "    if status.in_reply_to_screen_name == None:\n",
      "        tweets_df.loc[i] = [status.created_at, status.id, status.text, status.retweet_count,\n",
      "                         status.favorite_count, status.entities['hashtags']]\n",
      "        i += 1"
     ],
     "language": "python",
     "metadata": {},
     "outputs": [],
     "prompt_number": 32
    },
    {
     "cell_type": "code",
     "collapsed": false,
     "input": [
      "def tags_to_doc(tags):\n",
      "    if len(tags) == 0:\n",
      "        return 'no_tags'\n",
      "    else:\n",
      "        res = ''\n",
      "        for i in range(len(tags)):\n",
      "            res += str(tags[i]['text']) + ' '\n",
      "        return res"
     ],
     "language": "python",
     "metadata": {},
     "outputs": [],
     "prompt_number": 33
    },
    {
     "cell_type": "code",
     "collapsed": false,
     "input": [
      "tweets_df['fixed_tags'] = tweets_df.tags.apply(tags_to_doc)"
     ],
     "language": "python",
     "metadata": {},
     "outputs": [],
     "prompt_number": 34
    },
    {
     "cell_type": "code",
     "collapsed": false,
     "input": [
      "tweets_df['created_bin'] = tweets_df.created_at.apply(put_to_bins)"
     ],
     "language": "python",
     "metadata": {},
     "outputs": [],
     "prompt_number": 35
    },
    {
     "cell_type": "code",
     "collapsed": false,
     "input": [
      "plt.figure(figsize=(12,6))\n",
      "tweets_df.groupby('created_bin').created_at.count().plot(kind='bar')\n",
      "plt.title(\"Total Tweets Per Week\")\n",
      "plt.show()"
     ],
     "language": "python",
     "metadata": {},
     "outputs": [
      {
       "metadata": {},
       "output_type": "display_data",
       "png": "[encoded data removed]",
       "text": [
        "<matplotlib.figure.Figure at 0x10afe83d0>"
       ]
      }
     ],
     "prompt_number": 36
    },
    {
     "cell_type": "markdown",
     "metadata": {},
     "source": [
      "It's clear that the number of tweets per week decreases over time.  To study how this affects the effectiveness of tweets in terms of favorites and retweeets, we consider the average number of retweets/favorites that a post gets during that week.\n",
      "\n",
      "For reference here is averages for retweets and favorites over the course of the entire period."
     ]
    },
    {
     "cell_type": "code",
     "collapsed": false,
     "input": [
      "print \"Total number of tweets by @harrys: %d\" % len(tweets_df)\n",
      "print \"Average number of retweets per tweet: %0.5f\" % tweets_df.retweets.mean()\n",
      "print \"Average number of favorites per tweet: %0.5f\" % tweets_df.favorites.mean()"
     ],
     "language": "python",
     "metadata": {},
     "outputs": [
      {
       "output_type": "stream",
       "stream": "stdout",
       "text": [
        "Total number of tweets by @harrys: 300\n",
        "Average number of retweets per tweet: 2.03667\n",
        "Average number of favorites per tweet: 2.83667\n"
       ]
      }
     ],
     "prompt_number": 37
    },
    {
     "cell_type": "code",
     "collapsed": false,
     "input": [
      "rts = tweets_df.groupby('created_bin').retweets.sum() / tweets_df.groupby('created_bin').created_at.count()\n",
      "plt.figure(figsize=(12,6))\n",
      "rts.plot(kind='bar')\n",
      "plt.title(\"Average Number of Retweets per Tweet in a Given Week\")\n",
      "plt.show()\n",
      "rts = tweets_df.groupby('created_bin').retweets.sum()\n",
      "plt.figure(figsize=(12,6))\n",
      "rts.plot(kind='bar')\n",
      "plt.title(\"Total Number of Retweets per Week\")\n",
      "plt.show()"
     ],
     "language": "python",
     "metadata": {},
     "outputs": [
      {
       "metadata": {},
       "output_type": "display_data",
       "png": "[encoded data removed]",
       "text": [
        "<matplotlib.figure.Figure at 0x10b03b910>"
       ]
      },
      {
       "metadata": {},
       "output_type": "display_data",
       "png": "[encoded data removed]",
       "text": [
        "<matplotlib.figure.Figure at 0x10b03be90>"
       ]
      }
     ],
     "prompt_number": 38
    },
    {
     "cell_type": "code",
     "collapsed": false,
     "input": [
      "faves = tweets_df.groupby('created_bin').favorites.sum() / tweets_df.groupby('created_bin').created_at.count()\n",
      "plt.figure(figsize=(12,6))\n",
      "faves.plot(kind='bar')\n",
      "plt.title(\"Average Number of Favorites per Tweet in a Given Week\")\n",
      "plt.show()\n",
      "faves = tweets_df.groupby('created_bin').favorites.sum()\n",
      "plt.figure(figsize=(12,6))\n",
      "faves.plot(kind='bar')\n",
      "plt.title(\"Total Number of Favorites per Week\")\n",
      "plt.show()"
     ],
     "language": "python",
     "metadata": {},
     "outputs": [
      {
       "metadata": {},
       "output_type": "display_data",
       "png": "[encoded data removed]",
       "text": [
        "<matplotlib.figure.Figure at 0x10e4291d0>"
       ]
      },
      {
       "metadata": {},
       "output_type": "display_data",
       "png": "[encoded data removed]",
       "text": [
        "<matplotlib.figure.Figure at 0x10e696750>"
       ]
      }
     ],
     "prompt_number": 39
    },
    {
     "cell_type": "markdown",
     "metadata": {},
     "source": [
      "**Reactions to Different Campaigns**\n",
      "\n",
      "We now study which twitter campaigns are the most effective in terms of retweets and favorites.  We designate different campaigns by the tags accompanying tweets and only consider tags appearing 3 times or more.\n",
      "\n",
      "We then use a standard linear regression to try to learn the effect each tag has on the total number of retweets/favorites"
     ]
    },
    {
     "cell_type": "code",
     "collapsed": false,
     "input": [
      "with_tags = tweets_df[tweets_df.fixed_tags != 'no_tags']\n",
      "cv = CountVectorizer(min_df=3)\n",
      "X = cv.fit_transform(with_tags.fixed_tags)"
     ],
     "language": "python",
     "metadata": {},
     "outputs": [],
     "prompt_number": 40
    },
    {
     "cell_type": "markdown",
     "metadata": {},
     "source": [
      "The tags we consider are:"
     ]
    },
    {
     "cell_type": "code",
     "collapsed": false,
     "input": [
      "cv.vocabulary_.keys()"
     ],
     "language": "python",
     "metadata": {},
     "outputs": [
      {
       "metadata": {},
       "output_type": "pyout",
       "prompt_number": 41,
       "text": [
        "[u'fiveoclock',\n",
        " u'whoisjimmy',\n",
        " u'helpusdecoratehq',\n",
        " u'trustedtools',\n",
        " u'thinkshowershave',\n",
        " u'meru',\n",
        " u'hackathon',\n",
        " u'pushyourboundaries',\n",
        " u'fiveoclockmag',\n",
        " u'helpstan',\n",
        " u'rugby']"
       ]
      }
     ],
     "prompt_number": 41
    },
    {
     "cell_type": "code",
     "collapsed": false,
     "input": [
      "lin = LinearRegression()\n",
      "lin.fit(X, with_tags.retweets)"
     ],
     "language": "python",
     "metadata": {},
     "outputs": [
      {
       "metadata": {},
       "output_type": "pyout",
       "prompt_number": 42,
       "text": [
        "LinearRegression(copy_X=True, fit_intercept=True, n_jobs=1, normalize=False)"
       ]
      }
     ],
     "prompt_number": 42
    },
    {
     "cell_type": "code",
     "collapsed": false,
     "input": [
      "plt.scatter(lin.predict(X), with_tags.retweets, alpha = .7)\n",
      "plt.title(\"Predicted # of Retweets vs. Actual # of Retweets\")\n",
      "plt.show()\n",
      "print \"Spearman coefficient: %0.3f\" % spearmanr(lin.predict(X), with_tags.retweets)[0]"
     ],
     "language": "python",
     "metadata": {},
     "outputs": [
      {
       "metadata": {},
       "output_type": "display_data",
       "png": "[encoded data removed]",
       "text": [
        "<matplotlib.figure.Figure at 0x10c981210>"
       ]
      },
      {
       "output_type": "stream",
       "stream": "stdout",
       "text": [
        "Spearman coefficient: 0.400\n"
       ]
      }
     ],
     "prompt_number": 59
    },
    {
     "cell_type": "code",
     "collapsed": false,
     "input": [
      "coef = lin.coef_.ravel()\n",
      "feature_names = np.array(cv.get_feature_names())\n",
      "plt.figure(figsize=(12,6))\n",
      "plt.bar(range(len(coef)),coef)\n",
      "plt.xticks(range(len(coef)), feature_names, rotation=90, ha=\"left\")\n",
      "plt.title(\"Weight of Each Tag to Predict Retweets\")\n",
      "plt.show()"
     ],
     "language": "python",
     "metadata": {},
     "outputs": [
      {
       "metadata": {},
       "output_type": "display_data",
       "png": "[encoded data removed]",
       "text": [
        "<matplotlib.figure.Figure at 0x10ce24f50>"
       ]
      }
     ],
     "prompt_number": 60
    },
    {
     "cell_type": "code",
     "collapsed": false,
     "input": [
      "lin = LinearRegression()\n",
      "lin.fit(X, with_tags.favorites)"
     ],
     "language": "python",
     "metadata": {},
     "outputs": [
      {
       "metadata": {},
       "output_type": "pyout",
       "prompt_number": 45,
       "text": [
        "LinearRegression(copy_X=True, fit_intercept=True, n_jobs=1, normalize=False)"
       ]
      }
     ],
     "prompt_number": 45
    },
    {
     "cell_type": "code",
     "collapsed": false,
     "input": [
      "plt.scatter(lin.predict(X), with_tags.favorites)\n",
      "plt.title(\"Predicted # of Favorites vs. Actual # of Favorites\")\n",
      "plt.show()\n",
      "print \"Spearman coefficient: %0.3f\" % spearmanr(lin.predict(X), with_tags.favorites)[0]"
     ],
     "language": "python",
     "metadata": {},
     "outputs": [
      {
       "metadata": {},
       "output_type": "display_data",
       "png": "[encoded data removed]",
       "text": [
        "<matplotlib.figure.Figure at 0x10e061e50>"
       ]
      },
      {
       "output_type": "stream",
       "stream": "stdout",
       "text": [
        "Spearman coefficient: 0.471\n"
       ]
      }
     ],
     "prompt_number": 46
    },
    {
     "cell_type": "code",
     "collapsed": false,
     "input": [
      "coef = lin.coef_.ravel()\n",
      "feature_names = np.array(cv.get_feature_names())\n",
      "plt.figure(figsize=(12,6))\n",
      "plt.bar(range(len(coef)),coef)\n",
      "plt.xticks(range(len(coef)), feature_names, rotation=90, ha=\"left\")\n",
      "plt.title(\"Weight of Each Tag to Predict Favorites\")\n",
      "plt.show()"
     ],
     "language": "python",
     "metadata": {},
     "outputs": [
      {
       "metadata": {},
       "output_type": "display_data",
       "png": "[encoded data removed]",
       "text": [
        "<matplotlib.figure.Figure at 0x10b54a4d0>"
       ]
      }
     ],
     "prompt_number": 61
    },
    {
     "cell_type": "markdown",
     "metadata": {},
     "source": [
      "We now compare the average numbers of retweets/favorites for tweets with certain tags, all tweets, tweets with no tags, and any tweets with tags."
     ]
    },
    {
     "cell_type": "code",
     "collapsed": false,
     "input": [
      "print \"All tweets - Retweets: %0.3f, Favorites: %0.3f\" \\\n",
      "    % (tweets_df.retweets.mean(),\n",
      "       tweets_df.favorites.mean())\n",
      "\n",
      "print \"No tags - Retweets: %0.3f, Favorites: %0.3f\" \\\n",
      "    % (tweets_df[tweets_df.fixed_tags == 'no_tags'].retweets.mean(),\n",
      "       tweets_df[tweets_df.fixed_tags == 'no_tags'].favorites.mean())\n",
      "\n",
      "print \"With tags - Retweets: %0.3f, Favorites: %0.3f\" \\\n",
      "    % (tweets_df[tweets_df.fixed_tags != 'no_tags'].retweets.mean(),\n",
      "       tweets_df[tweets_df.fixed_tags != 'no_tags'].favorites.mean())\n",
      "    \n",
      "print \"#thinkshowershave - Retweets: %0.3f, Favorites: %0.3f\" \\\n",
      "    % (tweets_df[tweets_df.fixed_tags.str.contains('thinkshowershave')].retweets.mean(),\n",
      "       tweets_df[tweets_df.fixed_tags.str.contains('thinkshowershave')].favorites.mean())\n",
      "    \n",
      "print \"#trustedtools - Retweets: %0.3f, Favorites: %0.3f\" \\\n",
      "    % (tweets_df[tweets_df.fixed_tags.str.contains('trustedtools')].retweets.mean(),\n",
      "       tweets_df[tweets_df.fixed_tags.str.contains('trustedtools')].favorites.mean())\n",
      "    \n",
      "print \"#FiveOClock(Mag) - Retweets: %0.3f, Favorites: %0.3f\" \\\n",
      "    % (tweets_df[tweets_df.fixed_tags.str.contains('Five')].retweets.mean(),\n",
      "       tweets_df[tweets_df.fixed_tags.str.contains('Five')].favorites.mean())\n",
      "    \n",
      "print \"#HelpStan - Retweets: %0.3f, Favorites: %0.3f\" \\\n",
      "    % (tweets_df[tweets_df.fixed_tags.str.contains('HelpStan')].retweets.mean(),\n",
      "       tweets_df[tweets_df.fixed_tags.str.contains('HelpStan')].favorites.mean())"
     ],
     "language": "python",
     "metadata": {},
     "outputs": [
      {
       "output_type": "stream",
       "stream": "stdout",
       "text": [
        "All tweets - Retweets: 2.037, Favorites: 2.837\n",
        "No tags - Retweets: 2.000, Favorites: 2.213\n",
        "With tags - Retweets: 2.090, Favorites: 3.746\n",
        "#thinkshowershave - Retweets: 3.556, Favorites: 4.556\n",
        "#trustedtools - Retweets: 3.571, Favorites: 6.571\n",
        "#FiveOClock(Mag) - Retweets: 1.000, Favorites: 2.250\n",
        "#HelpStan - Retweets: 0.500, Favorites: 0.500\n"
       ]
      }
     ],
     "prompt_number": 55
    },
    {
     "cell_type": "markdown",
     "metadata": {},
     "source": [
      "**Topics of Original Tweets**\n",
      "\n",
      "In order to answer why  people contact @harrys, we can perform some topic modeling on the set of tweets used to contact @harrys.\n",
      "\n",
      "To do this I used the machine learning algorithm Latent Dirichlet Allocation to determine words associated with common topics."
     ]
    },
    {
     "cell_type": "code",
     "collapsed": false,
     "input": [
      "orig_posts = replies_df.text.dropna().values"
     ],
     "language": "python",
     "metadata": {},
     "outputs": [],
     "prompt_number": 49
    },
    {
     "cell_type": "code",
     "collapsed": false,
     "input": [
      "for i in range(len(orig_posts)):\n",
      "    orig_posts[i] = re.sub(r'(http[:\\./\\w]+)|(@\\w+)|harry\\'?s|^rt', '', orig_posts[i].lower())"
     ],
     "language": "python",
     "metadata": {},
     "outputs": [],
     "prompt_number": 50
    },
    {
     "cell_type": "code",
     "collapsed": false,
     "input": [
      "cv2 = CountVectorizer(stop_words='english', min_df=10)\n",
      "Y = cv2.fit_transform(orig_posts)\n"
     ],
     "language": "python",
     "metadata": {},
     "outputs": [],
     "prompt_number": 51
    },
    {
     "cell_type": "code",
     "collapsed": false,
     "input": [
      "model = lda.LDA(n_topics=30, n_iter=5000, random_state=42)\n",
      "model.fit(Y)"
     ],
     "language": "python",
     "metadata": {},
     "outputs": [
      {
       "output_type": "stream",
       "stream": "stderr",
       "text": [
        "WARNING:lda:all zero row in document-term matrix found\n"
       ]
      },
      {
       "metadata": {},
       "output_type": "pyout",
       "prompt_number": 52,
       "text": [
        "<lda.lda.LDA instance at 0x10e11e9e0>"
       ]
      }
     ],
     "prompt_number": 52
    },
    {
     "cell_type": "code",
     "collapsed": false,
     "input": [
      "topic_word = model.components_\n",
      "n_top_words = 6\n",
      "vocab = cv2.get_feature_names()\n",
      "\n",
      "for i, topic_dist in enumerate(topic_word):\n",
      "    topic_words = np.array(vocab)[np.argsort(topic_dist)][:-n_top_words:-1]\n",
      "    print('Topic {}: {}'.format(i, ' '.join(topic_words)))"
     ],
     "language": "python",
     "metadata": {},
     "outputs": [
      {
       "output_type": "stream",
       "stream": "stdout",
       "text": [
        "Topic 0: just code got ordered kit\n",
        "Topic 1: shave good looking just ordered\n",
        "Topic 2: great customer service thanks experience\n",
        "Topic 3: razor time just morning tried\n",
        "Topic 4: great product love price quality\n",
        "Topic 5: razors did cool brand week\n",
        "Topic 6: gel cream shave shaving great\n",
        "Topic 7: want try better like shaving\n",
        "Topic 8: amp thanks razors podcast got\n",
        "Topic 9: razor use love blade stand\n",
        "Topic 10: blades good really tried quality\n",
        "Topic 11: guys hey start ship uk\n",
        "Topic 12: thanks order email ll help\n",
        "Topic 13: shaving kit got new razor\n",
        "Topic 14: shave smooth blades face life\n",
        "Topic 15: just order yesterday received today\n",
        "Topic 16: razor blades new buy wife\n",
        "Topic 17: year love right old rt\n",
        "Topic 18: happy say que birthday la\n",
        "Topic 19: thanks shave awesome best guys\n",
        "Topic 20: shave handle plan don close\n",
        "Topic 21: new blade travel fiveoclock set\n",
        "Topic 22: today got wait try excited\n",
        "Topic 23: know think need let don\n",
        "Topic 24: best ve shave used razor\n",
        "Topic 25: razors work product packaging good\n",
        "Topic 26: like blades going actually looks\n",
        "Topic 27: day thank ownyouram oncampus wife\n",
        "Topic 28: thanks shipping free site products\n",
        "Topic 29: set truman just winston got\n"
       ]
      }
     ],
     "prompt_number": 53
    },
    {
     "cell_type": "code",
     "collapsed": false,
     "input": [],
     "language": "python",
     "metadata": {},
     "outputs": []
    }
   ],
   "metadata": {}
  }
 ]
}